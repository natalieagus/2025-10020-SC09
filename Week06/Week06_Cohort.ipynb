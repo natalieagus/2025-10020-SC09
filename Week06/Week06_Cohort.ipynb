{
 "cells": [
  {
   "cell_type": "markdown",
   "metadata": {
    "colab_type": "text",
    "id": "S_whx876WuVG"
   },
   "source": [
    "# Week 6 Problem Set\n",
    "\n",
    "## Cohort Sessions"
   ]
  },
  {
   "cell_type": "code",
   "execution_count": null,
   "metadata": {},
   "outputs": [],
   "source": [
    "%load_ext nb_mypy\n",
    "%nb_mypy On"
   ]
  },
  {
   "cell_type": "code",
   "execution_count": null,
   "metadata": {},
   "outputs": [],
   "source": [
    "from typing import TypeAlias\n",
    "from typing import Optional, Any, Callable, Iterator, Iterable, cast\n",
    "from __future__ import annotations\n",
    "\n",
    "Number: TypeAlias = int | float"
   ]
  },
  {
   "cell_type": "markdown",
   "metadata": {},
   "source": [
    "**CS1.** *Dictionary:* Implement a Graph using a *Dictionary* where the keys are the Vertices in the Graph and the values (in the the key-value pair) correspond to an Array containing the neighbouring Vertices. For example, let's represent the following graph:\n",
    "```\n",
    "    A -> B\n",
    "    A -> C\n",
    "    B -> C\n",
    "    B -> D\n",
    "    C -> D\n",
    "    D -> C\n",
    "    E -> F\n",
    "    F -> C\n",
    "```\n",
    "Create a Dictionary to represent the graph above."
   ]
  },
  {
   "cell_type": "code",
   "execution_count": null,
   "metadata": {},
   "outputs": [],
   "source": [
    "# replace the None with a dictionary representing the graph\n",
    "# graph: dict[str, list[str]] = None\n",
    "\n",
    "###\n",
    "### YOUR CODE HERE\n",
    "###"
   ]
  },
  {
   "cell_type": "code",
   "execution_count": null,
   "metadata": {},
   "outputs": [],
   "source": [
    "### BEGIN HIDDEN TESTS\n",
    "assert graph == {'A': ['B', 'C'], 'B': ['C', 'D'], 'C': ['D'], 'D': ['C'], 'E': ['F'], 'F': ['C']}\n",
    "### END HIDDEN TESTS"
   ]
  },
  {
   "cell_type": "markdown",
   "metadata": {},
   "source": [
    "**CS2.** Create a function `create_bfs_tree(graph, start, end)`. The function takes in three input arguments. The first one is the graph which is represented as a dictionary in adjacency list described in the earlier cohort questions. The second one is the label of the starting vertex to begin the Breadth-First Search. The third argument is the label of the ending vertex. \n",
    "\n",
    "The function should return a dictionary containing the parent node of each vertex in the path from start to end. For example, Let's say the tree generated is shown below.\n",
    "\n",
    "```\n",
    "A\n",
    "| \\\n",
    "B  D\n",
    "|  |\n",
    "C  E\n",
    "|  |\n",
    "F\n",
    "```\n",
    "\n",
    "The output dictionary should be something like the following.\n",
    "\n",
    "```\n",
    "{'F': 'C', 'C': 'B', 'E':'D', 'B':'A', 'D':'A'}\n",
    "```\n",
    "\n",
    "Note: Feel free to make use of the `get_neighbours()` function from your HW or your own code to get the neighbours from the values of the dictionary."
   ]
  },
  {
   "cell_type": "code",
   "execution_count": null,
   "metadata": {},
   "outputs": [],
   "source": [
    "def get_neighbours(graph: dict[str, list[str]], vert: str) -> Optional[list[str]]:\n",
    "    ###\n",
    "    ### YOUR CODE HERE\n",
    "    ###\n",
    "    pass"
   ]
  },
  {
   "cell_type": "code",
   "execution_count": null,
   "metadata": {},
   "outputs": [],
   "source": [
    "def create_bfs_tree(graph: dict[str, list[str]], start: str, end: str) -> dict[str, Optional[str]]:\n",
    "    output: dict[str, Optional[str]] = {'A': None}\n",
    "    ###\n",
    "    ### YOUR CODE HERE\n",
    "    ###\n",
    "    return output"
   ]
  },
  {
   "cell_type": "code",
   "execution_count": null,
   "metadata": {},
   "outputs": [],
   "source": [
    "graph: dict[str, list[str]] = {\"A\": [\"B\", \"D\"],\n",
    "         \"B\": [\"A\", \"C\"],\n",
    "         \"C\": [\"B\", \"D\", \"F\"],\n",
    "         \"D\": [\"A\", \"C\", \"E\"],\n",
    "         \"E\": [\"D\", \"F\"],\n",
    "         \"F\": [\"C\", \"E\"]}\n",
    "\n",
    "output: dict[str, Optional[str]] = create_bfs_tree(graph, \"A\", \"F\")\n",
    "print(output)\n",
    "assert output == {'A': None, 'B': 'A', 'D': 'A', 'C': 'B', 'E': 'D', 'F': 'C'}"
   ]
  },
  {
   "cell_type": "code",
   "execution_count": null,
   "metadata": {},
   "outputs": [],
   "source": [
    "###\n",
    "### AUTOGRADER TEST - DO NOT REMOVE\n",
    "###"
   ]
  },
  {
   "cell_type": "markdown",
   "metadata": {},
   "source": [
    "**CS3.** Create a class `Vertex` to represent a vertex in a graph. The class `Vertex` has the following attributes:\n",
    "- `id_`: to identify each vertex. This is of String data type.\n",
    "- `neighbours`: which is a Dictionary where the keys are the neighbouring `Vertex` object instances that are connected to the current Vertex and the values are the weights of the edge between the current Vertex and the neighbouring vertices. \n",
    "\n",
    "The class should also have the following methods:\n",
    "\n",
    "- `__init__(self, id_)`: which is used to initialized the attribute `id_`. By default, `id_` is set to an empty String . The attribute `neighbours` is always set to an empty dictionary.\n",
    "- `add_neighbour(self, nbr_vertex, weight)`: which adds a neighbouring Vertex to the current Vertex. The second argument provides the weight of the edge between the current Vertex and the newly added neighbouring Vertex. By default, `weight` is `0`.\n",
    "- `get_neigbours(self)`: which returns all the Vertices connected to the current Vertex as a list. The elements of the output list are of `Vertex` object instances.\n",
    "- `get_weight(self, neighbour)`: which returns the weight of the requested neighbour. It should return `None` if the requested neighbour is not found.\n",
    "- `__eq__(self, other)`: which returns true if the id of the current vertex object is the same as the `other` vertex's id. \n",
    "- `__lt__(self, other)`: which returns true if the id of the current vertex object is less than the `other` vertex's id.\n",
    "- `__hash__(self)`: which calls the `hash()` function on `id_` and returns it. This allows the object to be a dictionary key. This is provided for you.\n",
    "- `__str__(self)`: This method should return the id of the current vertex and a list of `id_`s of the neighbouring vertices, like `Vertex 2 is connected to: 3, 4, 5` ."
   ]
  },
  {
   "cell_type": "code",
   "execution_count": null,
   "metadata": {},
   "outputs": [],
   "source": [
    "class Vertex:\n",
    "    def __init__(self, id_: str=\"\") -> None:\n",
    "        self.id_: str = id_\n",
    "        self.neighbours: dict[Vertex, Number] = {}\n",
    "    \n",
    "    def add_neighbour(self, nbr_vertex: Vertex, weight: Number=0) -> None:\n",
    "        ###\n",
    "        ### YOUR CODE HERE\n",
    "        ###\n",
    "        pass\n",
    "    \n",
    "    def get_neighbours(self) -> list[Vertex]:\n",
    "        ###\n",
    "        ### YOUR CODE HERE\n",
    "        ###\n",
    "        pass\n",
    "    \n",
    "    def get_weight(self, neighbour: Vertex) -> Optional[Number]:\n",
    "        ###\n",
    "        ### YOUR CODE HERE\n",
    "        ###\n",
    "        pass\n",
    "    \n",
    "    def __eq__(self, other) -> bool:\n",
    "        ###\n",
    "        ### YOUR CODE HERE\n",
    "        ###\n",
    "        pass\n",
    "    \n",
    "    def __lt__(self, other) -> bool:\n",
    "        ###\n",
    "        ### YOUR CODE HERE\n",
    "        ###\n",
    "        pass\n",
    "    \n",
    "    def __hash__(self) -> int:\n",
    "        return hash(self.id_)\n",
    "    \n",
    "    def __str__(self) -> str:\n",
    "        ###\n",
    "        ### YOUR CODE HERE\n",
    "        ###\n",
    "        pass"
   ]
  },
  {
   "cell_type": "code",
   "execution_count": null,
   "metadata": {},
   "outputs": [],
   "source": [
    "v1: Vertex = Vertex(\"1\")\n",
    "assert v1.id_ == \"1\" and len(v1.neighbours) == 0\n",
    "v2: Vertex = Vertex(\"2\")\n",
    "v1.add_neighbour(v2)\n",
    "assert v1.get_neighbours()[0].id_ == \"2\" and v1.neighbours[v1.get_neighbours()[0]] == 0\n",
    "v3: Vertex = Vertex(\"3\")\n",
    "v1.add_neighbour(v3, 3)\n",
    "assert v1.get_weight(v3) == 3\n",
    "v4: Vertex = Vertex(\"4\")\n",
    "assert v1.get_weight(v4) == None\n",
    "assert v1 < v2\n",
    "assert v1 != v2\n",
    "assert str(v1) == \"Vertex 1 is connected to: 2, 3\""
   ]
  },
  {
   "cell_type": "code",
   "execution_count": null,
   "metadata": {},
   "outputs": [],
   "source": [
    "###\n",
    "### AUTOGRADER TEST - DO NOT REMOVE\n",
    "###"
   ]
  },
  {
   "cell_type": "markdown",
   "metadata": {},
   "source": [
    "**CS4.** Create a subclass of `Vertex` called `SearchVertex`. This class has the following additional attributes:\n",
    "- `colour`: which is a mark on the vertex during the search algorithm. It is of String data type and should be set to \"white\" by default.\n",
    "- `d`: which is an Integer denoting the distance from other Vertex to the current Vertex in Breath-First-Search. This is also used to record discovery time in Depth-First-Search. This attribute should be initialized to `sys.maxsize` at the start.\n",
    "- `f`: which is an Integer denoting the final time in Depth-First-Search. This attribute should be initialized to `sys.maxsize` at the start.\n",
    "- `parent`: which is a reference to the parent Vertex object. This attribute should be set to `None` at the start."
   ]
  },
  {
   "cell_type": "code",
   "execution_count": null,
   "metadata": {},
   "outputs": [],
   "source": [
    "import sys\n",
    "\n",
    "class SearchVertex(Vertex):\n",
    "    def __init__(self, id_: str=\"\") -> None:\n",
    "        ###BEGIN SOLUTION\n",
    "        super().__init__(id_)\n",
    "        self.colour: str = \"white\"\n",
    "        self.d: int = sys.maxsize\n",
    "        self.f: int = sys.maxsize\n",
    "        self.parent: Optional[SearchVertex] = None\n",
    "        ##END SOLUTION\n",
    "        pass"
   ]
  },
  {
   "cell_type": "code",
   "execution_count": null,
   "metadata": {},
   "outputs": [],
   "source": [
    "import sys\n",
    "\n",
    "v:SearchVertex = SearchVertex()\n",
    "assert v.id_ == \"\"\n",
    "assert v.colour == \"white\"\n",
    "assert v.d == sys.maxsize\n",
    "assert v.f == sys.maxsize\n",
    "assert v.parent == None\n",
    "\n",
    "parent_method: Any = getattr(v, 'get_neighbours', None)\n",
    "assert callable(parent_method)\n",
    "parent_method: Any = getattr(v, 'get_weight', None)\n",
    "assert callable(parent_method)\n"
   ]
  },
  {
   "cell_type": "code",
   "execution_count": null,
   "metadata": {},
   "outputs": [],
   "source": [
    "###\n",
    "### AUTOGRADER TEST - DO NOT REMOVE\n",
    "###"
   ]
  },
  {
   "cell_type": "markdown",
   "metadata": {},
   "source": [
    "**CS5.** Create a class `Graph` to represent a Graph. The class has the following attribute:\n",
    "- `vertices`: which is a *dictionary* of Vertices. The keys are the `id`s of the Vertices and the values are `Vertex` object instances.\n",
    "\n",
    "The class has the following property:\n",
    "- `num_vertices`: which is a *computed* property that returns the number of vertices in the graph.\n",
    "\n",
    "The class also has the following methods:\n",
    "- `__init__(self)`: which initializes the graph with an empty dictionary.\n",
    "- `_create_vertex(self, id_)`: which creates a new `Vertex` object with a given `id_`. This method is never called directly and is only used by `add_vertex(id_)`.\n",
    "- `add_vertex(self, id_)`: which creates a new `Vertex` object, adding it into the dictionary `vertices`. The argument `id_` is a String. This method should call `_create_vertex(id_)`.\n",
    "- `get_vertex(self, id_)`: which returns the `Vertex` object instance of the requested `id_`. The method should return `None` if the requested `id_` cannot be found. The argument `id_` is a String.\n",
    "- `add_edge(start_v, end_v)`: which creates an edge from one Vertex to another Vertex. The arguments are the `id_`s of the two vertices and are both Strings. If any of the starting or ending vertices is not in the graph, the function should call `add_vertex()` to create these vertices before creating an edge between the two vertices. \n",
    "- `get_neighbours(self, id_)`: which returns a list of `id_`s all the neighbouring vertices (of the specified Vertex `id_`). It should return an empty list `[]` if `id_` cannot be found. The argument `id_` is a String and the elements of the output list are of `str` data type. \n",
    "- `__contains__(self, id_)`: which returns either `True` or `False` depending on whether the graph contains the specified Vertex's `id_`. The argument `id_` is a String."
   ]
  },
  {
   "cell_type": "code",
   "execution_count": null,
   "metadata": {},
   "outputs": [],
   "source": [
    "class Graph:\n",
    "    def __init__(self) -> None:\n",
    "        self.vertices: dict[str, Vertex] = {}\n",
    "        \n",
    "    def _create_vertex(self, id_: str) -> Vertex:\n",
    "        ###\n",
    "        ### YOUR CODE HERE\n",
    "        ###\n",
    "        pass\n",
    "    \n",
    "    def add_vertex(self, id_: str) -> None:\n",
    "        ###\n",
    "        ### YOUR CODE HERE\n",
    "        ###\n",
    "        pass\n",
    "    \n",
    "    def get_vertex(self, id_: str) -> Optional[Vertex]:\n",
    "        ###\n",
    "        ### YOUR CODE HERE\n",
    "        ###\n",
    "        pass\n",
    "    \n",
    "    def add_edge(self, start_v: str, end_v: str, weight: Number=0) -> None:\n",
    "        ###\n",
    "        ### YOUR CODE HERE\n",
    "        ###\n",
    "        pass\n",
    "    \n",
    "    def get_neighbours(self, id_: str) -> list[str]:\n",
    "        ###\n",
    "        ### YOUR CODE HERE\n",
    "        ###\n",
    "        pass\n",
    "    \n",
    "    def __contains__(self, val: str) -> bool:\n",
    "        return val in self.vertices.keys()\n",
    "    \n",
    "    def __iter__(self):\n",
    "        for k,v in self.vertices.items():\n",
    "            yield v \n",
    "        \n",
    "    # write a code to create a computed property called num_vertices\n",
    "    ###\n",
    "    ### YOUR CODE HERE\n",
    "    ###"
   ]
  },
  {
   "cell_type": "code",
   "execution_count": null,
   "metadata": {},
   "outputs": [],
   "source": [
    "g: Graph = Graph()\n",
    "assert g.vertices == {} and g.num_vertices == 0\n",
    "g.add_vertex(\"A\")\n",
    "g.add_vertex(\"B\")\n",
    "g.add_vertex(\"C\")\n",
    "g.add_vertex(\"D\")\n",
    "g.add_vertex(\"E\")\n",
    "g.add_vertex(\"F\")\n",
    "assert g.num_vertices == 6\n",
    "assert \"A\" in g\n",
    "assert \"B\" in g\n",
    "assert \"C\" in g\n",
    "assert \"D\" in g\n",
    "assert \"E\" in g\n",
    "assert \"F\" in g\n",
    "g.add_edge(\"A\", \"B\")\n",
    "g.add_edge(\"A\", \"C\")\n",
    "g.add_edge(\"B\", \"C\")\n",
    "g.add_edge(\"B\", \"D\")\n",
    "g.add_edge(\"C\", \"D\")\n",
    "g.add_edge(\"D\", \"C\")\n",
    "g.add_edge(\"E\", \"F\")\n",
    "g.add_edge(\"F\", \"C\")\n",
    "assert sorted(g.get_neighbours(\"A\")) == [\"B\", \"C\"]\n",
    "assert sorted(g.get_neighbours(\"B\")) == [\"C\", \"D\"]\n",
    "assert sorted(g.get_neighbours(\"C\")) == [\"D\"]\n",
    "assert [v.id_ for v in g] == [\"A\", \"B\", \"C\", \"D\", \"E\", \"F\"]"
   ]
  },
  {
   "cell_type": "code",
   "execution_count": null,
   "metadata": {},
   "outputs": [],
   "source": [
    "###\n",
    "### AUTOGRADER TEST - DO NOT REMOVE\n",
    "###"
   ]
  },
  {
   "cell_type": "markdown",
   "metadata": {},
   "source": [
    "**CS6.** Create a class called `SearchGraph` which is a subclass of the class `Graph`. This class should override the method `_create_vertex(id)` and instantiate a `SearchVertex` object instead of `Vertex`."
   ]
  },
  {
   "cell_type": "code",
   "execution_count": null,
   "metadata": {},
   "outputs": [],
   "source": [
    "# copy the solution \n",
    "\n",
    "class Graph:\n",
    "    def __init__(self) -> None:\n",
    "        self.vertices: dict[str, Vertex] = {}\n",
    "        \n",
    "    def _create_vertex(self, id_: str) -> Vertex:\n",
    "        ###\n",
    "        ### YOUR CODE HERE\n",
    "        ###\n",
    "        pass\n",
    "    \n",
    "    def add_vertex(self, id_: str) -> None:\n",
    "        ###\n",
    "        ### YOUR CODE HERE\n",
    "        ###\n",
    "        pass\n",
    "    \n",
    "    def get_vertex(self, id_: str) -> Optional[Vertex]:\n",
    "        ###\n",
    "        ### YOUR CODE HERE\n",
    "        ###\n",
    "        pass\n",
    "    \n",
    "    def add_edge(self, start_v: str, end_v: str, weight: Number=0) -> None:\n",
    "        ###\n",
    "        ### YOUR CODE HERE\n",
    "        ###\n",
    "        pass\n",
    "    \n",
    "    def get_neighbours(self, id_: str) -> Iterable[str]:\n",
    "        ###\n",
    "        ### YOUR CODE HERE\n",
    "        ###\n",
    "        pass\n",
    "    \n",
    "    def __contains__(self, val: str) -> bool:\n",
    "        return val in self.vertices.keys()\n",
    "    \n",
    "    def __iter__(self) -> Iterator:\n",
    "        for k,v in self.vertices.items():\n",
    "            yield v \n",
    "        \n",
    "    # write a code to create a computed property called num_vertices\n",
    "    ###\n",
    "    ### YOUR CODE HERE\n",
    "    ###"
   ]
  },
  {
   "cell_type": "code",
   "execution_count": null,
   "metadata": {},
   "outputs": [],
   "source": [
    "class SearchGraph(Graph):\n",
    "    ###\n",
    "    ### YOUR CODE HERE\n",
    "    ###\n",
    "    pass"
   ]
  },
  {
   "cell_type": "code",
   "execution_count": null,
   "metadata": {},
   "outputs": [],
   "source": [
    "g2: SearchGraph = SearchGraph()\n",
    "g2.add_vertex(\"Z\")\n",
    "assert(type(g2.vertices[\"Z\"]) == type(SearchVertex()))"
   ]
  },
  {
   "cell_type": "code",
   "execution_count": null,
   "metadata": {},
   "outputs": [],
   "source": [
    "###\n",
    "### AUTOGRADER TEST - DO NOT REMOVE\n",
    "###"
   ]
  },
  {
   "cell_type": "markdown",
   "metadata": {},
   "source": [
    "**CS7.** Create a class `TraverseGraph` which takes in an object `SearchGraph` for its initialization. The class should have the following methods:\n",
    "- `clear_vertices()`: which sets the attributes f all the vertices:\n",
    "  - `colour` to \"white\"\n",
    "  - `d` to `sys.maxsize`\n",
    "  - `f` to `sys.maxsize`\n",
    "  - `parent` to `None`.\n",
    " \n",
    "\n",
    "\n"
   ]
  },
  {
   "cell_type": "code",
   "execution_count": null,
   "metadata": {},
   "outputs": [],
   "source": [
    "import sys\n",
    "\n",
    "class TraverseGraph:\n",
    "    def __init__(self, g: SearchGraph) -> None:\n",
    "        self.graph = g\n",
    "    \n",
    "    def clear_vertices(self) -> None:\n",
    "        ###\n",
    "        ### YOUR CODE HERE\n",
    "        ###\n",
    "        pass\n",
    "    \n",
    "    def __iter__(self) -> Iterator:\n",
    "        return iter([v for v in self.graph])\n",
    "    \n",
    "    def __len__(self) -> int:\n",
    "        return len([v for v in self.graph.vertices])"
   ]
  },
  {
   "cell_type": "code",
   "execution_count": null,
   "metadata": {},
   "outputs": [],
   "source": [
    "g4: SearchGraph = SearchGraph()\n",
    "g4.add_vertex(\"A\")\n",
    "g4.add_vertex(\"B\")\n",
    "g4.add_vertex(\"C\")\n",
    "g4.add_vertex(\"D\")\n",
    "g4.add_vertex(\"E\")\n",
    "g4.add_vertex(\"F\")\n",
    "g4.add_edge(\"A\", \"B\")\n",
    "g4.add_edge(\"A\", \"C\")\n",
    "g4.add_edge(\"B\", \"C\")\n",
    "g4.add_edge(\"B\", \"D\")\n",
    "g4.add_edge(\"C\", \"D\")\n",
    "g4.add_edge(\"D\", \"C\")\n",
    "g4.add_edge(\"E\", \"F\")\n",
    "g4.add_edge(\"F\", \"C\")\n",
    "gs4: TraverseGraph = TraverseGraph(g4)\n",
    "gs4.clear_vertices()\n",
    "\n",
    "assert len(gs4) == 6\n",
    "assert [v.id_ for v in gs4] == [\"A\", \"B\", \"C\", \"D\", \"E\", \"F\"]\n",
    "assert [v.colour for v in gs4] == [\"white\" for v in range(len(gs4))]\n",
    "assert [v.d for v in gs4] == [sys.maxsize for v in range(len(gs4))]\n",
    "assert [v.f for v in gs4] == [sys.maxsize for v in range(len(gs4))]\n",
    "assert [v.parent for v in gs4] == [None for v in range(len(gs4))]"
   ]
  },
  {
   "cell_type": "code",
   "execution_count": null,
   "metadata": {},
   "outputs": [],
   "source": [
    "###\n",
    "### AUTOGRADER TEST - DO NOT REMOVE\n",
    "###"
   ]
  },
  {
   "cell_type": "markdown",
   "metadata": {},
   "source": [
    "**CS8.** Create a class `TraverseBFS` which is a subclass of `TraverseGraph`. This subclass should implement the Breadth First Search algorithm in the following methods:\n",
    "\n",
    "- `search_from(start)`: which initializes the `d` and `parent` attributes of each vertices in the graph from the `start` Vertex following Breadth-First-Search algorithm. Use your previous code that implements `Queue` data structure. \n",
    "- `get_shortest_path(start, dest)`: which returns a list of vertex ids that forms a shortest path from Vertex `start` to Vertex `dest`. This method should call `get_path()` (see next method in the list) and pass on an empty list as one of the input arguments. The method `get_path()` will populate this list if there is a path. \n",
    "    - If the path list is empty after calling `get_path()`, this means that either the starting vertex or the destination vertex do not exist in the grapth. In this case, exit the function returning a `None` object.\n",
    "    - If the path list is not empty, it will either contain `No Path` as one of the items or a list of vertices that gives the path from the starting vertex to the destination vertex. In this case, simply return the list as it is. \n",
    "- `get_path(start, dest, result)`: which modifies the input list `result`. \n",
    "    - This method should first check whether the starting vertex and the destination vertex exist in the grapth. If they do not exist in either case, the method should exit returning a `None` object. \n",
    "    - If the starting and destination vertex exist in the graph, this method should call `search_from()` when the distance at `start` Vertex is not zero. A non-zero distance at the starting vertex means that we have not run the BFS algorithm from that starting vertex.\n",
    "    - if the destination and the starting vertex are the same, modify the `result` list with this one vertex. This means that we have found the path that consists of only one vertex. \n",
    "    - if the destination vertex has no parent, this means there is no path. Add `No Path` string into the `result` list. \n",
    "    - otherwise, recursively call `get_path()` and add the result into the `result` list. "
   ]
  },
  {
   "cell_type": "code",
   "execution_count": null,
   "metadata": {},
   "outputs": [],
   "source": [
    "#Copy over Queue from Wk4 HMWK\n",
    "class Queue:\n",
    "    ###\n",
    "    ### YOUR CODE HERE\n",
    "    ###\n",
    "    pass"
   ]
  },
  {
   "cell_type": "code",
   "execution_count": null,
   "metadata": {},
   "outputs": [],
   "source": [
    "class TraverseBFS(TraverseGraph):\n",
    "\n",
    "    def search_from(self, start: str) -> None:\n",
    "        ###\n",
    "        ### YOUR CODE HERE\n",
    "        ###\n",
    "        pass\n",
    "    \n",
    "    def get_shortest_path(self, start: str, dest: str) -> Optional[list[str]]:\n",
    "        pass\n",
    "        ###\n",
    "        ### YOUR CODE HERE\n",
    "        ###\n",
    "    \n",
    "    def get_path(self, start: str, dest: str, result: list[str]) -> None:\n",
    "        ###\n",
    "        ### YOUR CODE HERE\n",
    "        ###"
   ]
  },
  {
   "cell_type": "code",
   "execution_count": null,
   "metadata": {},
   "outputs": [],
   "source": [
    "g4: SearchGraph = SearchGraph()\n",
    "g4.add_vertex(\"A\")\n",
    "g4.add_vertex(\"B\")\n",
    "g4.add_vertex(\"C\")\n",
    "g4.add_vertex(\"D\")\n",
    "g4.add_vertex(\"E\")\n",
    "g4.add_vertex(\"F\")\n",
    "g4.add_edge(\"A\", \"B\")\n",
    "g4.add_edge(\"A\", \"C\")\n",
    "g4.add_edge(\"B\", \"C\")\n",
    "g4.add_edge(\"B\", \"D\")\n",
    "g4.add_edge(\"C\", \"D\")\n",
    "g4.add_edge(\"D\", \"C\")\n",
    "g4.add_edge(\"E\", \"F\")\n",
    "g4.add_edge(\"F\", \"C\")\n",
    "gs4: TraverseBFS = TraverseBFS(g4)\n",
    "\n",
    "gs4.search_from(\"A\")\n",
    "assert cast(SearchVertex, gs4.graph.get_vertex(\"A\")).d == 0\n",
    "assert cast(SearchVertex, gs4.graph.get_vertex(\"A\")).colour == \"black\"\n",
    "assert cast(SearchVertex, gs4.graph.get_vertex(\"A\")).parent == None\n",
    "assert cast(SearchVertex, gs4.graph.get_vertex(\"B\")).d == 1\n",
    "assert cast(SearchVertex, gs4.graph.get_vertex(\"B\")).colour == \"black\"\n",
    "assert cast(SearchVertex, gs4.graph.get_vertex(\"B\")).parent == gs4.graph.get_vertex(\"A\")\n",
    "assert cast(SearchVertex, gs4.graph.get_vertex(\"C\")).d == 1\n",
    "assert cast(SearchVertex, gs4.graph.get_vertex(\"C\")).colour == \"black\"\n",
    "assert cast(SearchVertex, gs4.graph.get_vertex(\"C\")).parent == gs4.graph.get_vertex(\"A\")\n",
    "assert cast(SearchVertex, gs4.graph.get_vertex(\"D\")).d == 2\n",
    "assert cast(SearchVertex, gs4.graph.get_vertex(\"D\")).colour == \"black\"\n",
    "cast(SearchVertex, gs4.graph.get_vertex(\"D\")).parent\n",
    "#assert gs4.graph.get_vertex(\"D\").parent == gs4.graph.get_vertex(\"B\")\n",
    "ans: Optional[list[str]] = gs4.get_shortest_path(\"A\", \"D\")\n",
    "assert ans == [\"A\", \"B\", \"D\"]\n",
    "ans: Optional[list[str]] = gs4.get_shortest_path(\"E\", \"D\")\n",
    "assert ans == [\"E\", \"F\", \"C\", \"D\"]"
   ]
  },
  {
   "cell_type": "code",
   "execution_count": null,
   "metadata": {},
   "outputs": [],
   "source": [
    "###\n",
    "### AUTOGRADER TEST - DO NOT REMOVE\n",
    "###"
   ]
  }
 ],
 "metadata": {
  "colab": {
   "authorship_tag": "ABX9TyMFMqVWcyy6ppXAKkZCjU2p",
   "collapsed_sections": [],
   "include_colab_link": true,
   "name": "Week06_ProblemSet.ipynb",
   "provenance": []
  },
  "kernelspec": {
   "display_name": "py312",
   "language": "python",
   "name": "python3"
  },
  "language_info": {
   "codemirror_mode": {
    "name": "ipython",
    "version": 3
   },
   "file_extension": ".py",
   "mimetype": "text/x-python",
   "name": "python",
   "nbconvert_exporter": "python",
   "pygments_lexer": "ipython3",
   "version": "3.12.8"
  }
 },
 "nbformat": 4,
 "nbformat_minor": 4
}
