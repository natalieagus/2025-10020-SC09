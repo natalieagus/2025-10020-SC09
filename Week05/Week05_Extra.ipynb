{
 "cells": [
  {
   "cell_type": "markdown",
   "metadata": {},
   "source": [
    "# Week 5 Extra Problem Set"
   ]
  },
  {
   "cell_type": "code",
   "execution_count": null,
   "metadata": {},
   "outputs": [],
   "source": [
    "%load_ext nb_mypy\n",
    "%nb_mypy On"
   ]
  },
  {
   "cell_type": "code",
   "execution_count": null,
   "metadata": {},
   "outputs": [],
   "source": [
    "from typing import TypeAlias\n",
    "from typing import Optional, Any, Iterator\n",
    "from __future__ import annotations\n",
    "\n",
    "Number: TypeAlias = int | float\n",
    "NumberList: TypeAlias = list[int|float] "
   ]
  },
  {
   "cell_type": "markdown",
   "metadata": {},
   "source": [
    "Q1. Create a class `PremierAccount` and `EconomyAccount` which are subclasses of `Account` (copy your Account class from Week 4 extra problem set). A premier account has a credit limit of 1.5 times the current balance or 1,000,000 whichever is smaller. An economy account has a credit limit of 0.5 times the current balance or 20.0 whichever is smaller."
   ]
  },
  {
   "cell_type": "code",
   "execution_count": null,
   "metadata": {},
   "outputs": [],
   "source": [
    "class Account:\n",
    "    ###\n",
    "    ### YOUR CODE HERE\n",
    "    ###"
   ]
  },
  {
   "cell_type": "code",
   "execution_count": null,
   "metadata": {},
   "outputs": [],
   "source": [
    "class PremierAccount(Account):\n",
    "    ###\n",
    "    ### YOUR CODE HERE\n",
    "    ###\n",
    "\n",
    "class EconomyAccount(Account):\n",
    "    ###\n",
    "    ### YOUR CODE HERE\n",
    "    ###"
   ]
  },
  {
   "cell_type": "code",
   "execution_count": null,
   "metadata": {},
   "outputs": [],
   "source": [
    "p: Account = PremierAccount(100)\n",
    "assert p.credit_limit() == 150.0\n",
    "p.deposit(1_500_000)\n",
    "assert p.credit_limit() == 1_000_000\n",
    "\n",
    "e: Account = EconomyAccount(100)\n",
    "assert e.credit_limit() == 20.00\n",
    "e: Account = EconomyAccount(20)\n",
    "assert e.credit_limit() == 10.0"
   ]
  },
  {
   "cell_type": "markdown",
   "metadata": {},
   "source": [
    "Q2. *Inheritance:* Create a class `Deque` as a subclass of `Queue`. Use the double-stack implementation of `Queue` in this problem. `Deque` has the following methods:\n",
    "- `add_front(item)`: which add an item to the front of the queue. \n",
    "- `remove_rear()`: which pops out an item from the rear of the queue. \n",
    "- `add_rear(item)`: which add an item from rear of the queue. This is the same as enqueue a normal queue.\n",
    "- `remove_front()`: which pops out an item from the front of the queue. This is the same as dequeue method in a normal queue.\n",
    "- `left_to_right()`: which is a helper function to move the items from the left stack to the right stack and keep the proper order. Use the Push and Pop operation of Stacks here.\n",
    "- `peek_front()` and `peak_rear()`: which peek the front or the rear of the Deque respectively. It should return `None` when the Deque is empty.\n",
    "\n",
    "See the notation for the front and rear of a Queue.\n",
    "\n",
    "![](https://upload.wikimedia.org/wikipedia/commons/thumb/5/52/Data_Queue.svg/405px-Data_Queue.svg.png)\n"
   ]
  },
  {
   "cell_type": "code",
   "execution_count": null,
   "metadata": {},
   "outputs": [],
   "source": [
    "class Stack:\n",
    "    ###\n",
    "    ### YOUR CODE HERE\n",
    "    ###"
   ]
  },
  {
   "cell_type": "code",
   "execution_count": null,
   "metadata": {},
   "outputs": [],
   "source": [
    "class Queue:\n",
    "    def __init__(self) -> None:\n",
    "        self.left_stack: Stack = Stack()\n",
    "        self.right_stack: Stack = Stack()\n",
    "    \n",
    "    ###\n",
    "    ### YOUR CODE HERE\n",
    "    ###"
   ]
  },
  {
   "cell_type": "code",
   "execution_count": null,
   "metadata": {},
   "outputs": [],
   "source": [
    "class Deque(Queue):\n",
    "  \n",
    "    def add_front(self, item: Any) -> None:\n",
    "        ###\n",
    "        ### YOUR CODE HERE\n",
    "        ###\n",
    "        pass\n",
    "      \n",
    "    def remove_front(self) -> Any:\n",
    "        ###\n",
    "        ### YOUR CODE HERE\n",
    "        ###\n",
    "        pass\n",
    "    \n",
    "    def add_rear(self, item: Any) -> None:\n",
    "        ###\n",
    "        ### YOUR CODE HERE\n",
    "        ###\n",
    "        pass\n",
    "    \n",
    "    def right_to_left(self) -> None:\n",
    "        ###\n",
    "        ### YOUR CODE HERE\n",
    "        ###\n",
    "    \n",
    "    \n",
    "    def remove_rear(self) -> Any:\n",
    "        ###\n",
    "        ### YOUR CODE HERE\n",
    "        ###\n",
    "        pass\n",
    "    \n",
    "    def peek_front(self) -> Any:\n",
    "        ###\n",
    "        ### YOUR CODE HERE\n",
    "        ###\n",
    "        pass\n",
    "    \n",
    "    def peek_rear(self) -> Any:\n",
    "        ###\n",
    "        ### YOUR CODE HERE\n",
    "        ###\n",
    "        pass"
   ]
  },
  {
   "cell_type": "code",
   "execution_count": null,
   "metadata": {},
   "outputs": [],
   "source": [
    "q1: Deque = Deque()\n",
    "q1.add_front(1)\n",
    "q1.add_front(2)\n",
    "q1.add_front(3)\n",
    "assert q1.peek_front() == 3\n",
    "assert q1.peek_rear() == 1\n",
    "assert q1.remove_rear() == 1\n",
    "assert q1.remove_rear() == 2\n",
    "assert q1.remove_rear() == 3\n",
    "assert q1.peek_front() == None\n",
    "assert q1.peek_rear() == None\n",
    "\n",
    "q1.add_rear(3)\n",
    "q1.add_rear(2)\n",
    "q1.add_rear(1)\n",
    "assert q1.remove_front() == 3\n",
    "assert q1.remove_front() == 2\n",
    "assert q1.remove_front() == 1\n",
    "\n",
    "q1.add_front(1)\n",
    "q1.add_rear(2)\n",
    "q1.add_front(3)\n",
    "q1.add_rear(4)\n",
    "q1.add_front(5)\n",
    "q1.add_rear(6)\n",
    "assert q1.remove_rear() == 6\n",
    "assert q1.remove_rear() == 4\n",
    "assert q1.remove_rear() == 2\n",
    "assert q1.remove_rear() == 1\n",
    "assert q1.remove_rear() == 3\n",
    "assert q1.remove_front() == 5"
   ]
  },
  {
   "cell_type": "code",
   "execution_count": null,
   "metadata": {},
   "outputs": [],
   "source": [
    "###\n",
    "### AUTOGRADER TEST - DO NOT REMOVE\n",
    "###\n"
   ]
  },
  {
   "cell_type": "markdown",
   "metadata": {},
   "source": [
    "Q3. Write a class called `EvaluateFraction` that evaluates postfix notation implemented using **Deque** data structure. Postfix notation is a way of writing expressions without using parenthesis. For example, the expression `(1+2)*3` would be written as `1 2 + 3 *`. The class `EvaluateFraction` has the following method:\n",
    "- `input(inp)`: which pushes the input input one at a time. For example, to create a postfix notation `1 2 + 3 *`, we can call this method repetitively, e.g. `e.input('1'); e.input('2'); e.input('+'); e.input('3'); e.input('*')`. Notice that the input is of String data type. \n",
    "- `evaluate()`: which returns the output of the expression.\n",
    "- `get_fraction(inp)`: which takes in an input string and returns a `Fraction` object. \n",
    "\n",
    "Postfix notation is evaluated using a Stack. Since `Dequeue` can be used for both Stack and Queue, we will implement using `Dequeue`. The input streams from `input()` are stored in a Queue, which we will again implement using Dequeue. If the output of the Queue is a number, the item is pushed into the stack. If it is an operator, we will apply the operator to the two top most item n the stacks and push the result back into the stack. "
   ]
  },
  {
   "cell_type": "code",
   "execution_count": null,
   "metadata": {},
   "outputs": [],
   "source": [
    "def gcd(a: int, b: int) -> int:\n",
    "    if b == 0:\n",
    "        return a\n",
    "    else:\n",
    "        return gcd(b, a % b)\n",
    "\n",
    "\n",
    "class Fraction:\n",
    "    # copy the rest of the methods here\n",
    "    \n",
    "    ###\n",
    "    ### YOUR CODE HERE\n",
    "    ###"
   ]
  },
  {
   "cell_type": "code",
   "execution_count": null,
   "metadata": {},
   "outputs": [],
   "source": [
    "class EvaluateFraction:\n",
    "\n",
    "    operands: str = \"0123456789\"\n",
    "    operators: str = \"+-*/\"\n",
    "    \n",
    "    def __init__(self) -> None:\n",
    "        self.expression: Deque = Deque()\n",
    "        self.stack: Deque = Deque()\n",
    "    \n",
    "    def input(self, item: Any) -> None:\n",
    "        ###\n",
    "        ### YOUR CODE HERE\n",
    "        ###\n",
    "        pass\n",
    "    \n",
    "    def evaluate(self) -> Fraction:\n",
    "        ###\n",
    "        ### YOUR CODE HERE\n",
    "        ###\n",
    "    \n",
    "    def get_fraction(self, inp: str) -> Fraction:\n",
    "        ###\n",
    "        ### YOUR CODE HERE\n",
    "        ###\n",
    "    \n",
    "    def process_operator(self, op1: Fraction, op2: Fraction, op: str) -> Fraction:\n",
    "        ###\n",
    "        ### YOUR CODE HERE\n",
    "        ###"
   ]
  },
  {
   "cell_type": "code",
   "execution_count": null,
   "metadata": {},
   "outputs": [],
   "source": [
    "pe: EvaluateFraction = EvaluateFraction()\n",
    "pe.input(\"1/2\")\n",
    "pe.input(\"2/3\")\n",
    "pe.input(\"+\")\n",
    "assert pe.evaluate()==Fraction(7, 6)\n",
    "\n",
    "pe.input(\"1/2\")\n",
    "pe.input(\"2/3\")\n",
    "pe.input(\"+\")\n",
    "pe.input(\"1/6\")\n",
    "pe.input(\"-\")\n",
    "assert pe.evaluate()==Fraction(1, 1)\n",
    "\n",
    "pe.input(\"1/2\")\n",
    "pe.input(\"2/3\")\n",
    "pe.input(\"+\")\n",
    "pe.input(\"1/6\")\n",
    "pe.input(\"-\")\n",
    "pe.input(\"3/4\")\n",
    "pe.input(\"*\")\n",
    "assert pe.evaluate()==Fraction(3, 4)"
   ]
  },
  {
   "cell_type": "code",
   "execution_count": null,
   "metadata": {},
   "outputs": [],
   "source": [
    "###\n",
    "### AUTOGRADER TEST - DO NOT REMOVE\n",
    "###"
   ]
  }
 ],
 "metadata": {
  "kernelspec": {
   "display_name": "py312",
   "language": "python",
   "name": "python3"
  },
  "language_info": {
   "codemirror_mode": {
    "name": "ipython",
    "version": 3
   },
   "file_extension": ".py",
   "mimetype": "text/x-python",
   "name": "python",
   "nbconvert_exporter": "python",
   "pygments_lexer": "ipython3",
   "version": "3.12.8"
  }
 },
 "nbformat": 4,
 "nbformat_minor": 4
}
