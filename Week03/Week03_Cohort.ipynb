{
 "cells": [
  {
   "cell_type": "markdown",
   "metadata": {},
   "source": [
    "\n",
    "# Week 3 Problem Set\n",
    "\n",
    "## Cohort Sessions"
   ]
  },
  {
   "cell_type": "code",
   "execution_count": null,
   "metadata": {},
   "outputs": [],
   "source": [
    "%load_ext nb_mypy\n",
    "%nb_mypy On"
   ]
  },
  {
   "cell_type": "markdown",
   "metadata": {
    "colab_type": "text",
    "id": "5UB5OHFfqSOs"
   },
   "source": [
    "\n",
    "**CS1.** You have implemented factorial using iteration in Problem Set 1. Now, implement the factorial problem using a recursion. The function should takes in an Integer input and returns and Integer output which is the factorial of the input. Recall that:\n",
    "\n",
    "$n! = n \\times (n-1) \\times (n-2) \\times \\ldots \\times 2 \\times 1$\n",
    "\n",
    "You should consider the case when $n$ is zero and one as well. "
   ]
  },
  {
   "cell_type": "markdown",
   "metadata": {},
   "source": [
    "Reorder the code for the factorial implemented in a recursive way.\n",
    "\n",
    "[Click here to do the Parson Problem for Factorial Recursive.](https://data-driven-world.github.io/hosting-parsons-on-github-template/week3#factorial-recursive)"
   ]
  },
  {
   "cell_type": "markdown",
   "metadata": {},
   "source": [
    "Write and test the code below."
   ]
  },
  {
   "cell_type": "code",
   "execution_count": null,
   "metadata": {
    "colab": {},
    "colab_type": "code",
    "id": "sHaonVRkq7AF"
   },
   "outputs": [],
   "source": [
    "# recursion\n",
    "# what arguments do the function receive? the type, and some examples \n",
    "# consider all values of that type, make the function robust \n",
    "# int: all kinds? neg 0 pos? \n",
    "# question states to consider 0 or pos case only \n",
    "# if factorial receives neg value, what should the output be? \n",
    "# if it receives 0, what should the output be? \n",
    "# if it receives string, or float, or dict: who will handle this? \n",
    "# what return values will this function produce? \n",
    "def factorial_recursion(n: int) -> int:\n",
    "    # consider all possible values of n (int)\n",
    "    if n < 0:  # -ve \n",
    "        return n # negative case \n",
    "    \n",
    "    if n == 1 or n == 0:\n",
    "        return 1 # BASE CASE \n",
    "    else:\n",
    "        return n * factorial_recursion(n-1)  # RECURSIVE CASE\n"
   ]
  },
  {
   "cell_type": "code",
   "execution_count": null,
   "metadata": {},
   "outputs": [],
   "source": [
    "assert factorial_recursion(0) == 1\n",
    "assert factorial_recursion(1) == 1\n",
    "assert factorial_recursion(5) == 120\n",
    "assert factorial_recursion(7) == 5040\n",
    "assert factorial_recursion(11) == 39916800\n",
    "assert factorial_recursion(-5) == -5 # custom test case "
   ]
  },
  {
   "cell_type": "code",
   "execution_count": null,
   "metadata": {},
   "outputs": [],
   "source": [
    "###\n",
    "### AUTOGRADER TEST - DO NOT REMOVE\n",
    "###"
   ]
  },
  {
   "cell_type": "markdown",
   "metadata": {
    "colab_type": "text",
    "id": "BC_u9lsArNJN"
   },
   "source": [
    "**CS2.** *Helper Function:* Write a function `palindrome(s)`to check if the string `s` is a [Palindrome](https://en.wikipedia.org/wiki/Palindrome). To do this, write another function `is_palindrome(s, left, right)` where `left` and `right` are indices from the left and from the right to check the character in `str`. Use recursion instead of iteration in this problem.\n"
   ]
  },
  {
   "cell_type": "code",
   "execution_count": null,
   "metadata": {
    "colab": {},
    "colab_type": "code",
    "id": "rm_5U8O8rhEh"
   },
   "outputs": [],
   "source": [
    "def palindrome(s: str) -> bool:\n",
    "    # call the recursive palindrome checker \n",
    "    # we use len(s) - 1 because we are going to use this as index to s\n",
    "    result = is_palindrome(s, 0, len(s)-1)\n",
    "    return result \n",
    "\n",
    "# return value: bool (true for palindrome, false otherwise)\n",
    "# inputs:\n",
    "# s:  a string, any string \n",
    "# left: index of the letter on the left to look at \n",
    "# right: index of the letter on the right to look at \n",
    "def is_palindrome(s: str, left: int, right: int) -> bool:\n",
    "    # TODO: The order of the case matters! \n",
    "    # BASE CASE \n",
    "    # CASE 1\n",
    "    if s[left] != s[right]:\n",
    "        # this is not a palindrome \n",
    "        return False \n",
    "    # CASE 2\n",
    "    if s == \"\": # empty string is a palindrome\n",
    "        return True \n",
    "    # CASE 3\n",
    "    if left == right: # left and right index at the same letter\n",
    "        return True \n",
    "    # CASE 4\n",
    "    if len(s) == 1: # a single letter is a palindrome \n",
    "        return True \n",
    "\n",
    "    # combining case 1, 2, 4\n",
    "    # if (len (s) < 2):\n",
    "    #     return True \n",
    "\n",
    "    return is_palindrome(s, left + 1, right - 1)\n",
    "    "
   ]
  },
  {
   "cell_type": "code",
   "execution_count": null,
   "metadata": {},
   "outputs": [],
   "source": [
    "assert not palindrome(\"moon\") \n",
    "assert palindrome(\"noon\") \n",
    "assert palindrome(\"a a\") \n",
    "assert palindrome(\"ada\") \n",
    "assert not palindrome(\"ad a\") "
   ]
  },
  {
   "cell_type": "code",
   "execution_count": null,
   "metadata": {},
   "outputs": [],
   "source": [
    "###\n",
    "### AUTOGRADER TEST - DO NOT REMOVE\n",
    "###"
   ]
  },
  {
   "cell_type": "markdown",
   "metadata": {
    "colab_type": "text",
    "id": "aodn2sO1sNkc"
   },
   "source": [
    "**CS3.** *Towers of Hanoi:* Write a function `move_disks(n, from_tower, to_tower, aux_tower)` which returns an array of String for the movement of disks that solves the [Towers of Hanoi problem](https://en.wikipedia.org/wiki/Tower_of_Hanoi). \n",
    "* The first argument `n` is an Integer input that gives information on the number of disk. \n",
    "* The second argument `from_tower` is a String which is the label of the origin tower.\n",
    "* The third argument `to_tower` is a String which is the label of the destination tower.\n",
    "* The last argument `aux_tower` is a String which is the label of the auxilary tower.\n"
   ]
  },
  {
   "cell_type": "code",
   "execution_count": null,
   "metadata": {
    "colab": {
     "base_uri": "https://localhost:8080/",
     "height": 71
    },
    "colab_type": "code",
    "executionInfo": {
     "elapsed": 793,
     "status": "ok",
     "timestamp": 1573110840424,
     "user": {
      "displayName": "Oka Kurniawan",
      "photoUrl": "https://lh3.googleusercontent.com/a-/AAuE7mAnRP7A15yGfrraUO-0BiNVbNmYjI2f9jaZikjr=s64",
      "userId": "05233922875329103764"
     },
     "user_tz": -480
    },
    "id": "3ZAskdmWsbBz",
    "outputId": "03172fec-5225-46c2-92be-39a9016212ee"
   },
   "outputs": [],
   "source": [
    "def move_disks(n: int, from_tower: str, to_tower: str, aux_tower: str) -> list[str]:\n",
    "    result: list[str] = []\n",
    "    ###\n",
    "    ### YOUR CODE HERE\n",
    "    ###\n",
    "    return result"
   ]
  },
  {
   "cell_type": "code",
   "execution_count": null,
   "metadata": {},
   "outputs": [],
   "source": [
    "result: list[str] = move_disks(3, \"A\", \"B\", \"C\")\n",
    "print(result)\n",
    "assert result == [\"Move disk 1 from A to B.\", \"Move disk 2 from A to C.\", \"Move disk 1 from B to C.\", \"Move disk 3 from A to B.\", \"Move disk 1 from C to A.\", \"Move disk 2 from C to B.\", \"Move disk 1 from A to B.\"]\n",
    "\n",
    "result: list[str] = move_disks(4, \"A\", \"B\", \"C\")\n",
    "print(result)\n",
    "assert result == [\"Move disk 1 from A to C.\", \"Move disk 2 from A to B.\", \"Move disk 1 from C to B.\", \"Move disk 3 from A to C.\", \"Move disk 1 from B to A.\", \"Move disk 2 from B to C.\", \"Move disk 1 from A to C.\", \"Move disk 4 from A to B.\", \"Move disk 1 from C to B.\", \"Move disk 2 from C to A.\", \"Move disk 1 from B to A.\", \"Move disk 3 from C to B.\", \"Move disk 1 from A to C.\", \"Move disk 2 from A to B.\", \"Move disk 1 from C to B.\"]\n"
   ]
  },
  {
   "cell_type": "code",
   "execution_count": null,
   "metadata": {},
   "outputs": [],
   "source": [
    "###\n",
    "### AUTOGRADER TEST - DO NOT REMOVE\n",
    "###"
   ]
  },
  {
   "cell_type": "markdown",
   "metadata": {
    "colab_type": "text",
    "id": "8YmeNBxwtpXy"
   },
   "source": [
    "**CS4.** *Merge Sort:* Write functions to implement the Merge Sort algorithm. The first function `mergesort(array)` should takes in an array of Integers in `array`. The function should sort the array in place. The second function `merge(array, p, q, r)` should implements the merge procedure. This function takes in an array of Integers in. `array`, the starting index for the left array `p`, the ending index for the left array `q`, and the ending index for the right array `r`. You can use a helper function for your recursion if needed."
   ]
  },
  {
   "cell_type": "code",
   "execution_count": null,
   "metadata": {
    "colab": {},
    "colab_type": "code",
    "id": "ErKPh0vsuJrZ"
   },
   "outputs": [],
   "source": [
    "def merge(array: list, p: int, q: int, r: int) -> None:\n",
    "    ###\n",
    "    ### YOUR CODE HERE\n",
    "    ###\n",
    "    pass\n",
    "\n",
    "def mergesort_recursive(array: list, p: int, r: int) -> None:\n",
    "    ###\n",
    "    ### YOUR CODE HERE\n",
    "    ###\n",
    "    pass\n",
    "\n",
    "def mergesort(array: list) -> None:\n",
    "    ###\n",
    "    ### YOUR CODE HERE\n",
    "    ###\n",
    "    pass"
   ]
  },
  {
   "cell_type": "code",
   "execution_count": null,
   "metadata": {},
   "outputs": [],
   "source": [
    "input_array: list[int] = [5, 2, 4, 7, 1, 3, 2, 6]\n",
    "mergesort(input_array)\n",
    "assert input_array == [1, 2, 2, 3, 4, 5, 6, 7]"
   ]
  },
  {
   "cell_type": "code",
   "execution_count": null,
   "metadata": {},
   "outputs": [],
   "source": [
    "###\n",
    "### AUTOGRADER TEST - DO NOT REMOVE\n",
    "###"
   ]
  }
 ],
 "metadata": {
  "colab": {
   "collapsed_sections": [],
   "name": "Week03_ProblemSet.ipynb",
   "provenance": []
  },
  "kernelspec": {
   "display_name": "py312",
   "language": "python",
   "name": "python3"
  },
  "language_info": {
   "codemirror_mode": {
    "name": "ipython",
    "version": 3
   },
   "file_extension": ".py",
   "mimetype": "text/x-python",
   "name": "python",
   "nbconvert_exporter": "python",
   "pygments_lexer": "ipython3",
   "version": "3.12.8"
  }
 },
 "nbformat": 4,
 "nbformat_minor": 4
}
