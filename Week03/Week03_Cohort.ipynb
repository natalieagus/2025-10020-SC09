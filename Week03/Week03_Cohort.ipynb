{
 "cells": [
  {
   "cell_type": "markdown",
   "metadata": {},
   "source": [
    "\n",
    "# Week 3 Problem Set\n",
    "\n",
    "## Cohort Sessions"
   ]
  },
  {
   "cell_type": "code",
   "execution_count": null,
   "metadata": {},
   "outputs": [],
   "source": [
    "%load_ext nb_mypy\n",
    "%nb_mypy On"
   ]
  },
  {
   "cell_type": "markdown",
   "metadata": {
    "colab_type": "text",
    "id": "5UB5OHFfqSOs"
   },
   "source": [
    "\n",
    "**CS1.** You have implemented factorial using iteration in Problem Set 1. Now, implement the factorial problem using a recursion. The function should takes in an Integer input and returns and Integer output which is the factorial of the input. Recall that:\n",
    "\n",
    "$n! = n \\times (n-1) \\times (n-2) \\times \\ldots \\times 2 \\times 1$\n",
    "\n",
    "You should consider the case when $n$ is zero and one as well. "
   ]
  },
  {
   "cell_type": "markdown",
   "metadata": {},
   "source": [
    "Reorder the code for the factorial implemented in a recursive way.\n",
    "\n",
    "[Click here to do the Parson Problem for Factorial Recursive.](https://data-driven-world.github.io/hosting-parsons-on-github-template/week3#factorial-recursive)"
   ]
  },
  {
   "cell_type": "markdown",
   "metadata": {},
   "source": [
    "Write and test the code below."
   ]
  },
  {
   "cell_type": "code",
   "execution_count": null,
   "metadata": {
    "colab": {},
    "colab_type": "code",
    "id": "sHaonVRkq7AF"
   },
   "outputs": [],
   "source": [
    "# recursion\n",
    "# what arguments do the function receive? the type, and some examples \n",
    "# consider all values of that type, make the function robust \n",
    "# int: all kinds? neg 0 pos? \n",
    "# question states to consider 0 or pos case only \n",
    "# if factorial receives neg value, what should the output be? \n",
    "# if it receives 0, what should the output be? \n",
    "# if it receives string, or float, or dict: who will handle this? \n",
    "# what return values will this function produce? \n",
    "def factorial_recursion(n: int) -> int:\n",
    "    # consider all possible values of n (int)\n",
    "    if n < 0:  # -ve \n",
    "        return n # negative case \n",
    "    \n",
    "    if n == 1 or n == 0:\n",
    "        return 1 # BASE CASE \n",
    "    else:\n",
    "        return n * factorial_recursion(n-1)  # RECURSIVE CASE\n"
   ]
  },
  {
   "cell_type": "code",
   "execution_count": null,
   "metadata": {},
   "outputs": [],
   "source": [
    "assert factorial_recursion(0) == 1\n",
    "assert factorial_recursion(1) == 1\n",
    "assert factorial_recursion(5) == 120\n",
    "assert factorial_recursion(7) == 5040\n",
    "assert factorial_recursion(11) == 39916800\n",
    "assert factorial_recursion(-5) == -5 # custom test case "
   ]
  },
  {
   "cell_type": "code",
   "execution_count": null,
   "metadata": {},
   "outputs": [],
   "source": [
    "###\n",
    "### AUTOGRADER TEST - DO NOT REMOVE\n",
    "###"
   ]
  },
  {
   "cell_type": "markdown",
   "metadata": {
    "colab_type": "text",
    "id": "BC_u9lsArNJN"
   },
   "source": [
    "**CS2.** *Helper Function:* Write a function `palindrome(s)`to check if the string `s` is a [Palindrome](https://en.wikipedia.org/wiki/Palindrome). To do this, write another function `is_palindrome(s, left, right)` where `left` and `right` are indices from the left and from the right to check the character in `str`. Use recursion instead of iteration in this problem.\n"
   ]
  },
  {
   "cell_type": "code",
   "execution_count": null,
   "metadata": {
    "colab": {},
    "colab_type": "code",
    "id": "rm_5U8O8rhEh"
   },
   "outputs": [],
   "source": [
    "def palindrome(s: str) -> bool:\n",
    "    # call the recursive palindrome checker \n",
    "    # we use len(s) - 1 because we are going to use this as index to s\n",
    "    result = is_palindrome(s, 0, len(s)-1)\n",
    "    return result \n",
    "\n",
    "# return value: bool (true for palindrome, false otherwise)\n",
    "# inputs:\n",
    "# s:  a string, any string \n",
    "# left: index of the letter on the left to look at \n",
    "# right: index of the letter on the right to look at \n",
    "def is_palindrome(s: str, left: int, right: int) -> bool:\n",
    "    # TODO: The order of the case matters! \n",
    "    # if is_palindrome is called with an empty string, that means s is \"\", left: 0, right: -1 \n",
    "    # if we are checking if s[left] != s[right]:  first, then s[left] (s[0]) and s[right] (s[-1]) will cause an error\n",
    "    # BASE CASE \n",
    "    # CASE 2\n",
    "    if s == \"\": # empty string is a palindrome\n",
    "        return True \n",
    "    # CASE 4\n",
    "    if len(s) == 1: # a single letter is a palindrome \n",
    "        return True \n",
    "    # CASE 3\n",
    "    if left == right: # left and right index at the same letter\n",
    "        return True \n",
    "    # CASE 1\n",
    "    if s[left] != s[right]:\n",
    "        # this is not a palindrome \n",
    "        return False \n",
    "\n",
    "    # combining case 1, 2, 4\n",
    "    # if (len (s) < 2):\n",
    "    #     return True \n",
    "\n",
    "    return is_palindrome(s, left + 1, right - 1)\n",
    "    "
   ]
  },
  {
   "cell_type": "code",
   "execution_count": null,
   "metadata": {},
   "outputs": [],
   "source": [
    "assert not palindrome(\"moon\") \n",
    "assert palindrome(\"noon\") \n",
    "assert palindrome(\"a a\") \n",
    "assert palindrome(\"ada\") \n",
    "assert not palindrome(\"ad a\") "
   ]
  },
  {
   "cell_type": "code",
   "execution_count": null,
   "metadata": {},
   "outputs": [],
   "source": [
    "###\n",
    "### AUTOGRADER TEST - DO NOT REMOVE\n",
    "###"
   ]
  },
  {
   "cell_type": "markdown",
   "metadata": {
    "colab_type": "text",
    "id": "aodn2sO1sNkc"
   },
   "source": [
    "**CS3.** *Towers of Hanoi:* Write a function `move_disks(n, from_tower, to_tower, aux_tower)` which returns an array of String for the movement of disks that solves the [Towers of Hanoi problem](https://en.wikipedia.org/wiki/Tower_of_Hanoi). \n",
    "* The first argument `n` is an Integer input that gives information on the number of disk. \n",
    "* The second argument `from_tower` is a String which is the label of the origin tower.\n",
    "* The third argument `to_tower` is a String which is the label of the destination tower.\n",
    "* The last argument `aux_tower` is a String which is the label of the auxilary tower.\n"
   ]
  },
  {
   "cell_type": "code",
   "execution_count": null,
   "metadata": {
    "colab": {
     "base_uri": "https://localhost:8080/",
     "height": 71
    },
    "colab_type": "code",
    "executionInfo": {
     "elapsed": 793,
     "status": "ok",
     "timestamp": 1573110840424,
     "user": {
      "displayName": "Oka Kurniawan",
      "photoUrl": "https://lh3.googleusercontent.com/a-/AAuE7mAnRP7A15yGfrraUO-0BiNVbNmYjI2f9jaZikjr=s64",
      "userId": "05233922875329103764"
     },
     "user_tz": -480
    },
    "id": "3ZAskdmWsbBz",
    "outputId": "03172fec-5225-46c2-92be-39a9016212ee"
   },
   "outputs": [],
   "source": [
    "# arg: n is an int, > 0 \n",
    "# what if n is 0 or negative? \n",
    "def move_disks(n: int, from_tower: str, to_tower: str, aux_tower: str) -> list[str]:\n",
    "    result: list[str] = []\n",
    "\n",
    "    # BASE CASE \n",
    "    if n < 1:\n",
    "        return result \n",
    "    \n",
    "    if n == 1:\n",
    "        # just transport the lone disk from source to destination tower\n",
    "        return [f\"Move disk {n} from {from_tower} to {to_tower}\"]\n",
    "\n",
    "    # RECURSIVE CASE\n",
    "    result = move_disks(n-1, from_tower, aux_tower, to_tower)\n",
    "    result += [f\"Move disk {n} from {from_tower} to {to_tower}\"] # the action of moving the biggest disk known to this current function (disk n)\n",
    "    result += move_disks(n-1, aux_tower, to_tower, from_tower)\n",
    "    return result\n",
    "\n",
    "result: list[str] = move_disks(2, \"source\", \"destination\", \"aux\")\n",
    "# when there are 2 disks, we want the answer like this:\n",
    "# (1) move disk 1 from source to aux \n",
    "# (2) move disk 2 from source to destination --> produced along the line of the current function \n",
    "# (3) move disk 1 from aux to destination \n",
    "# (1) and (3) is produced by move_disks BASE CASE but we swap from and to and aux tower arguments \n",
    "print(\"result with 2 disks: \", result)\n",
    "result: list[str] = move_disks(3, \"source\", \"destination\", \"aux\")\n",
    "# when there are 3 disks, we want the answer as such:\n",
    "# (1) move disk 1 from source to dest \n",
    "# (2) move disk 2 from source to aux \n",
    "# (3) move disk 1 from dest to aux --> at this point, disk 1 and 2 are both in the aux tower \n",
    "# (4) move disk 3 from source to dest --> move biggest disk to destination \n",
    "# (5) move disk 1 from aux to source  \n",
    "# (6) move disk 2 from aux to dest \n",
    "# (7) move disk 1 from source to dest \n",
    "print(\"result with 3 disks: \", result)"
   ]
  },
  {
   "cell_type": "code",
   "execution_count": null,
   "metadata": {},
   "outputs": [],
   "source": [
    "result: list[str] = move_disks(3, \"A\", \"B\", \"C\")\n",
    "print(result)\n",
    "assert result == [\"Move disk 1 from A to B.\", \"Move disk 2 from A to C.\", \"Move disk 1 from B to C.\", \"Move disk 3 from A to B.\", \"Move disk 1 from C to A.\", \"Move disk 2 from C to B.\", \"Move disk 1 from A to B.\"]\n",
    "\n",
    "result: list[str] = move_disks(4, \"A\", \"B\", \"C\")\n",
    "print(result)\n",
    "assert result == [\"Move disk 1 from A to C.\", \"Move disk 2 from A to B.\", \"Move disk 1 from C to B.\", \"Move disk 3 from A to C.\", \"Move disk 1 from B to A.\", \"Move disk 2 from B to C.\", \"Move disk 1 from A to C.\", \"Move disk 4 from A to B.\", \"Move disk 1 from C to B.\", \"Move disk 2 from C to A.\", \"Move disk 1 from B to A.\", \"Move disk 3 from C to B.\", \"Move disk 1 from A to C.\", \"Move disk 2 from A to B.\", \"Move disk 1 from C to B.\"]\n"
   ]
  },
  {
   "cell_type": "code",
   "execution_count": null,
   "metadata": {},
   "outputs": [],
   "source": [
    "###\n",
    "### AUTOGRADER TEST - DO NOT REMOVE\n",
    "###"
   ]
  },
  {
   "cell_type": "code",
   "execution_count": null,
   "metadata": {},
   "outputs": [],
   "source": [
    "import copy\n",
    "array = [1,[2,3],4,5]\n",
    "copy_of_array = copy.deepcopy(array[0:3])\n",
    "print(\"copy_of_array\", copy_of_array)\n",
    "array[1][0] = 100\n",
    "print(\"array\", array)\n",
    "print(\"copy_of_array\", copy_of_array)\n"
   ]
  },
  {
   "cell_type": "markdown",
   "metadata": {
    "colab_type": "text",
    "id": "8YmeNBxwtpXy"
   },
   "source": [
    "**CS4.** *Merge Sort:* Write functions to implement the Merge Sort algorithm. The first function `mergesort(array)` should takes in an array of Integers in `array`. The function should sort the array in place. The second function `merge(array, p, q, r)` should implements the merge procedure. This function takes in an array of Integers in. `array`, the starting index for the left array `p`, the ending index for the left array `q`, and the ending index for the right array `r`. You can use a helper function for your recursion if needed."
   ]
  },
  {
   "cell_type": "code",
   "execution_count": null,
   "metadata": {
    "colab": {},
    "colab_type": "code",
    "id": "ErKPh0vsuJrZ"
   },
   "outputs": [],
   "source": [
    "import copy\n",
    "# array: a list of elements \n",
    "# p: starting index for left array \n",
    "# q: ending index for left array\n",
    "# r: ending index for right array\n",
    "# e.g: array is [3,8,10,0,2,22,45] --> two \"subarrays\" are: [3,8,10], [0,2,22,45]\n",
    "# p = 0, q = 2, r = 6\n",
    "def merge(array: list, p: int, q: int, r: int) -> None:\n",
    "    # recap: array slicing, it is NOT including the end index\n",
    "    # make a copy of the original array first \n",
    "    # name your variables generously\n",
    "    left_array: list = copy.deepcopy(array[p:q+1]) # slice the left subarray, e.g: array[0:3]\n",
    "    right_array: list = copy.deepcopy(array[q+1:r+1]) # slice the right subarray, e.g: array[3:7] \n",
    "\n",
    "    size_of_left_array = len(left_array)  # e.g: 3 items\n",
    "    size_of_right_array = len(right_array) # e.g: 4 items \n",
    "\n",
    "    # need the pointer index for each subarray \n",
    "    left_array_idx = 0 \n",
    "    right_array_idx = 0 \n",
    "\n",
    "    # used to code this the first time, to prevent doing mental gymnastics with in-place replacement\n",
    "    # merged_array: list[int] = []\n",
    "    \n",
    "    # handle edge case \n",
    "    # if left or right array size is 0, it means the subarray is already sorted\n",
    "    if (size_of_left_array == 0 or size_of_right_array == 0):\n",
    "        # print(\"array\", array)\n",
    "        return # don't need to do anything \n",
    "    \n",
    "    # merge \n",
    "    while left_array_idx < size_of_left_array and right_array_idx < size_of_right_array:\n",
    "        # while both arrays still have elements to go \n",
    "        # compare the array \n",
    "        if left_array[left_array_idx] <= right_array[right_array_idx]:\n",
    "            # merged_array.append(left_array[left_array_idx])\n",
    "            array[p] =left_array[left_array_idx] # doing in-place replacement\n",
    "            left_array_idx += 1\n",
    "        else: \n",
    "            # merged_array.append(right_array[right_array_idx]) \n",
    "            array[p] = right_array[right_array_idx]\n",
    "            right_array_idx += 1\n",
    "        p += 1\n",
    "\n",
    "    # if we are out of the while loop, check if there's still left/right array remaining \n",
    "    while left_array_idx < size_of_left_array:\n",
    "        # merged_array.append(left_array[left_array_idx])\n",
    "        array[p] =left_array[left_array_idx]\n",
    "        p += 1\n",
    "        left_array_idx += 1 \n",
    "\n",
    "    while right_array_idx < size_of_right_array:\n",
    "        # merged_array.append(right_array[right_array_idx])\n",
    "        array[p] = right_array[right_array_idx]\n",
    "        p += 1\n",
    "        right_array_idx += 1 \n",
    "\n",
    "    # print(\"merged_array\", merged_array)\n",
    "    # print(\"array\", array)\n",
    "        \n",
    "\n",
    "# test merge function\n",
    "# merge([3,8,10,0,2,22,45], 0, 2, 6) # regular case \n",
    "# merge([0,2,22,45], 0, 0, 3) # zero left array \n",
    "# merge([1,2,22,45], 0, 3, 3) # zero right array \n",
    "\n",
    "# example:\n",
    "# array : [2,3,8,0,10,22,45]\n",
    "# p = 0, r = len(array)-1 = 6\n",
    "# midpoint_index = 6-0 // 2 = 3 --> divide the round up so midpoint_index is an int, not a float \n",
    "def mergesort_recursive(array: list, p: int, r: int) -> None:\n",
    "    # BASE CASE \n",
    "    # We don't recurse if there's only 1 element in the array, just return\n",
    "    if (p == r): \n",
    "        return \n",
    "    \n",
    "    # RECURSIVE CASE \n",
    "    if (p < r): # if we have more than 1 element in the array \n",
    "        midpoint_index:int = (p+r) // 2\n",
    "        mergesort_recursive(array, p, midpoint_index)\n",
    "        mergesort_recursive(array, midpoint_index+1, r)\n",
    "        merge(array, p, midpoint_index, r)\n",
    "\n",
    "# wrapper function to call the recursive function\n",
    "# for user-friendliness \n",
    "def mergesort(array: list) -> None:\n",
    "    mergesort_recursive(array, 0, len(array)-1)\n",
    "test_array = [2,3,8,0,10,22,45]\n",
    "# test_array = [8,0,23]\n",
    "mergesort(test_array)\n",
    "print(\"test_array\", test_array)"
   ]
  },
  {
   "cell_type": "code",
   "execution_count": null,
   "metadata": {},
   "outputs": [],
   "source": [
    "input_array: list[int] = [5, 2, 4, 7, 1, 3, 2, 6]\n",
    "mergesort(input_array)\n",
    "assert input_array == [1, 2, 2, 3, 4, 5, 6, 7]"
   ]
  },
  {
   "cell_type": "code",
   "execution_count": null,
   "metadata": {},
   "outputs": [],
   "source": [
    "###\n",
    "### AUTOGRADER TEST - DO NOT REMOVE\n",
    "###"
   ]
  }
 ],
 "metadata": {
  "colab": {
   "collapsed_sections": [],
   "name": "Week03_ProblemSet.ipynb",
   "provenance": []
  },
  "kernelspec": {
   "display_name": "3.10.4",
   "language": "python",
   "name": "python3"
  },
  "language_info": {
   "codemirror_mode": {
    "name": "ipython",
    "version": 3
   },
   "file_extension": ".py",
   "mimetype": "text/x-python",
   "name": "python",
   "nbconvert_exporter": "python",
   "pygments_lexer": "ipython3",
   "version": "3.10.4"
  }
 },
 "nbformat": 4,
 "nbformat_minor": 4
}
